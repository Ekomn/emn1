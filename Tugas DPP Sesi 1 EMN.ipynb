{
 "cells": [
  {
   "cell_type": "code",
   "execution_count": 19,
   "id": "254d6f13",
   "metadata": {},
   "outputs": [
    {
     "name": "stdout",
     "output_type": "stream",
     "text": [
      "Program Hitung Luas & Keliling Lingkaran\n",
      "----------------------------------------\n",
      "masukkan nilai jari-jari :12\n",
      "\n",
      "Luasnya = 452.160\n",
      "Kelilingnya = 75.360\n",
      "\n",
      "Eko Memen Nuryaman TI22B\n"
     ]
    }
   ],
   "source": [
    "#Tugas Sesi 1 Konsep Pemrograman\n",
    "\n",
    "print('Program Hitung Luas & Keliling Lingkaran')\n",
    "print('----------------------------------------')\n",
    "\n",
    "r = float(input('masukkan nilai jari-jari :'))\n",
    "\n",
    "phi = 3.14\n",
    "diameter = 2*r\n",
    "\n",
    "luas = phi*r*r\n",
    "keliling = phi*diameter\n",
    "print('\\nLuasnya =', str(\"%.3f\" % luas)) \n",
    "print('Kelilingnya =', str(\"%.3f\" % keliling))\n",
    "\n",
    "\n",
    "print('\\nEko Memen Nuryaman TI22B')"
   ]
  },
  {
   "cell_type": "code",
   "execution_count": 3,
   "id": "fbc6b42f",
   "metadata": {},
   "outputs": [
    {
     "name": "stdout",
     "output_type": "stream",
     "text": [
      "Program Hitung Luas Segitiga\n",
      "----------------------------------------\n",
      "masukkan nilai Alas :100\n",
      "masukkan nilai Tinggi :230\n",
      "\n",
      "Luasnya = 11500.00\n",
      "\n",
      "Eko Memen Nuryaman TI22B\n"
     ]
    }
   ],
   "source": [
    "#Tugas Sesi 1 Konsep Pemrograman\n",
    "\n",
    "print('Program Hitung Luas Segitiga')\n",
    "print('----------------------------------------')\n",
    "\n",
    "a = float(input('masukkan nilai Alas :'))\n",
    "t = float(input('masukkan nilai Tinggi :'))\n",
    "\n",
    "luas = 0.5*a*t\n",
    "print('\\nLuasnya =', str(\"%.2f\" % luas))\n",
    "\n",
    "\n",
    "print('\\nEko Memen Nuryaman TI22B')"
   ]
  },
  {
   "cell_type": "code",
   "execution_count": 1,
   "id": "2e8e13bd",
   "metadata": {
    "scrolled": false
   },
   "outputs": [
    {
     "name": "stdout",
     "output_type": "stream",
     "text": [
      "Program Data Mahasiswa\n",
      "----------------------\n",
      "masukkan Nama          :Eko Memen Nuryaman\n",
      "masukkan nomor telepon :08128215708\n",
      "masukkan NIM           :20220040026\n",
      "\n",
      "\n",
      "Eko Memen Nuryaman\n",
      "8128215708\n",
      "20220040026\n",
      "\n",
      "By Eko Memen Nuryaman TI22B\n"
     ]
    }
   ],
   "source": [
    "#Tugas Sesi 3 Variabel dan Tipe Data\n",
    "\n",
    "print('Program Data Mahasiswa')\n",
    "print('----------------------')\n",
    "\n",
    "nama = input(\"masukkan Nama          :\")\n",
    "telp = int(input(\"masukkan nomor telepon :\"))\n",
    "nim = int(input(\"masukkan NIM           :\"))\n",
    "\n",
    "print(\"\\n\")\n",
    "print(nama)\n",
    "print(telp)\n",
    "print(nim)\n",
    "\n",
    "print('\\nBy Eko Memen Nuryaman TI22B')"
   ]
  },
  {
   "cell_type": "code",
   "execution_count": 2,
   "id": "2a311e25",
   "metadata": {},
   "outputs": [
    {
     "name": "stdout",
     "output_type": "stream",
     "text": [
      "Program Hitung Nilai 3 Angka\n",
      "----------------------------\n",
      "masukkan nilai angka 1 :5000\n",
      "masukkan nilai angka 2 :2000\n",
      "masukkan nilai angka 3 :200\n",
      "\n",
      "Hasil Perhitungan = 7800\n",
      "\n",
      "Eko Memen Nuryaman TI22B\n"
     ]
    }
   ],
   "source": [
    "#Tugas Sesi 3 Variabel dan Tipe Data\n",
    "\n",
    "print('Program Hitung Nilai 3 Angka')\n",
    "print('----------------------------')\n",
    "\n",
    "a = float(input('masukkan nilai angka 1 :'))\n",
    "b = float(input('masukkan nilai angka 2 :'))\n",
    "c = float(input('masukkan nilai angka 3 :'))\n",
    "\n",
    "d = 500\n",
    "\n",
    "Hitung = (a+d)+(b+d)-c\n",
    "\n",
    "print('\\nHasil Perhitungan =', str(\"%.0f\" % Hitung))\n",
    "\n",
    "print('\\nEko Memen Nuryaman TI22B')"
   ]
  },
  {
   "cell_type": "code",
   "execution_count": 4,
   "id": "d55247c9",
   "metadata": {},
   "outputs": [
    {
     "name": "stdout",
     "output_type": "stream",
     "text": [
      "Program Hitung Keliloing Lingkaran dan Volume Kubus\n",
      "---------------------------------------------------\n",
      "masukkan nilai jari-jari :234\n",
      "masukkan nilai panjang :323\n",
      "masukkan nilai lebar :22\n",
      "masukkan nilai tinggi :34\n",
      "\n",
      "Keliling Lingkaran = 1469.520\n",
      "Volume Kubus = 241604\n",
      "\n",
      "Eko Memen Nuryaman TI22B\n"
     ]
    }
   ],
   "source": [
    "#Tugas Sesi 3 Variabel dan Tipe Data\n",
    "\n",
    "print('Program Hitung Keliloing Lingkaran dan Volume Kubus')\n",
    "print('---------------------------------------------------')\n",
    "\n",
    "r = float(input('masukkan nilai jari-jari :'))\n",
    "p = float(input('masukkan nilai panjang :'))\n",
    "l = float(input('masukkan nilai lebar :'))\n",
    "t = float(input('masukkan nilai tinggi :'))\n",
    "\n",
    "phi=3.14\n",
    "diameter=2*r\n",
    "\n",
    "keliling = phi*diameter\n",
    "volume = p*l*t\n",
    "\n",
    "print('\\nKeliling Lingkaran =', str(\"%.3f\" % keliling))\n",
    "print('Volume Kubus =', str(\"%.0f\" % volume))\n",
    "\n",
    "print('\\nEko Memen Nuryaman TI22B')"
   ]
  },
  {
   "cell_type": "code",
   "execution_count": 5,
   "id": "e82296d9",
   "metadata": {},
   "outputs": [
    {
     "name": "stdout",
     "output_type": "stream",
     "text": [
      "Master Biodata\n",
      "--------------\n",
      "Nama          :Eko Memen Nuryaman\n",
      "Tempat Lahir  :Sukabumi\n",
      "Tanggal Lahir :29 Mei 1969\n",
      "Alamat        :Jl. Raya Kadupugur 172A\n",
      "Kelurahan     :Cijalingan\n",
      "Kecamatan     :Cibadak\n",
      "Kab/Kota      :Sukabumi\n",
      "Provinsi      :Jawa Barat\n",
      "Pekerjaan     :Swasta\n",
      "Telepon       :08128215708\n",
      "email         :eko@policipta.com\n",
      "\n",
      "\n",
      "Eko Memen Nuryaman\n",
      "29 Mei 1969\n",
      "Jl. Raya Kadupugur 172A\n",
      "Cijalingan\n",
      "Cibadak\n",
      "Sukabumi\n",
      "Jawa Barat\n",
      "8128215708\n",
      "eko@policipta.com\n",
      "\n",
      "by NSP\n"
     ]
    }
   ],
   "source": [
    "#Tugas Sesi 5 Input-Output-String\n",
    "\n",
    "print('Master Biodata')\n",
    "print('--------------')\n",
    "\n",
    "nama = input(\"Nama          :\")\n",
    "tempat = input(\"Tempat Lahir  :\" )\n",
    "lahir = input(\"Tanggal Lahir :\" )\n",
    "alamat1 = input (\"Alamat        :\")\n",
    "alamat2 = input (\"Kelurahan     :\")\n",
    "alamat3 = input (\"Kecamatan     :\")\n",
    "alamat4 = input (\"Kab/Kota      :\")\n",
    "alamat5 = input (\"Provinsi      :\")\n",
    "pekerjaan = input (\"Pekerjaan     :\")\n",
    "telepon = int(input(\"Telepon       :\"))\n",
    "email = input (\"email         :\")\n",
    "\n",
    "print(\"\\n\")\n",
    "print(nama)\n",
    "print(lahir)\n",
    "print(alamat1)\n",
    "print(alamat2)\n",
    "print(alamat3)\n",
    "print(alamat4)\n",
    "print(alamat5)\n",
    "print(telepon)\n",
    "print(email)\n",
    "\n",
    "print('\\nby NSP')"
   ]
  },
  {
   "cell_type": "code",
   "execution_count": 63,
   "id": "904c2722",
   "metadata": {
    "scrolled": true
   },
   "outputs": [
    {
     "name": "stdout",
     "output_type": "stream",
     "text": [
      "\u001b[1mUNIVERSITAS NUSA PUTRA SUKABUMI\n",
      "-------------------------------\n",
      "nusa putra \n",
      "putra nusa\n",
      "NIVERSITAS NSA PTRA SKABMI\n",
      "UNSP\n",
      "TAS SAPU BUMI\n",
      "\n",
      "by EMN\n"
     ]
    }
   ],
   "source": [
    "#Tugas Sesi 5 Input-Output-String\n",
    "\n",
    "print('\\33[1m''UNIVERSITAS NUSA PUTRA SUKABUMI')\n",
    "print('-------------------------------')\n",
    "\n",
    "nama = \"UNIVERSITAS NUSA PUTRA SUKABUMI\"\n",
    "print(nama.lower()[12:23])\n",
    "print(nama.replace('UNIVERSITAS NUSA PUTRA SUKABUMI','putra nusa'))\n",
    "print(nama.replace('U',''))\n",
    "print(nama.replace('UNIVERSITAS NUSA PUTRA SUKABUMI','UNSP'))\n",
    "print(nama.replace('UNIVERSITAS NUSA PUTRA SUKABUMI','TAS SAPU BUMI'))\n",
    "\n",
    "print('\\nby EMN')"
   ]
  },
  {
   "cell_type": "code",
   "execution_count": 2,
   "id": "6f18d3c3",
   "metadata": {},
   "outputs": [
    {
     "name": "stdout",
     "output_type": "stream",
     "text": [
      "UNIVERSITAS NUSA PUTRA SUKABUMI\n",
      "-------------------------------\n",
      "Masukkan umur anak: 20\n",
      "Masukkan tinggi anak (cm): 120\n",
      "Tarif harga: Rp 80000\n",
      "\n",
      "by EMN\n"
     ]
    }
   ],
   "source": [
    "# PROGRAM MENGHITUNG TARIS BERDASARKAN UMUR DAN TINGGI\n",
    "\n",
    "print('UNIVERSITAS NUSA PUTRA SUKABUMI')\n",
    "print('-------------------------------')\n",
    "\n",
    "umur = int(input(\"Masukkan umur anak: \"))\n",
    "tinggi = int(input(\"Masukkan tinggi anak (cm): \"))\n",
    "def hitung_tarif(umur, tinggi):\n",
    "     if umur < 2:\n",
    "         print(\"Dilarang masuk\")\n",
    "     elif umur < 4:\n",
    "         if tinggi > 70:\n",
    "             tarif = 30000 + 10000\n",
    "         else:\n",
    "             tarif = 30000\n",
    "     elif umur < 7:\n",
    "         if tinggi > 120:\n",
    "             tarif = 40000 + 15000\n",
    "         else:\n",
    "             tarif = 40000\n",
    "     elif umur < 10:\n",
    "         if tinggi > 150:\n",
    "             tarif = 50000 + 20000\n",
    "         else:\n",
    "             tarif = 50000\n",
    "     else:\n",
    "         tarif = 80000\n",
    "     print(\"Tarif harga: Rp\", tarif)\n",
    "hitung_tarif(umur, tinggi)\n",
    "\n",
    "print('\\nby EMN')\n"
   ]
  },
  {
   "cell_type": "code",
   "execution_count": 3,
   "id": "46b32070",
   "metadata": {},
   "outputs": [
    {
     "name": "stdout",
     "output_type": "stream",
     "text": [
      "UNIVERSITAS NUSA PUTRA SUKABUMI\n",
      "-------------------------------\n",
      "Aktivitas olahraga yang dilakukan (lari, push-up, atau plank)? lari\n",
      "Berapa lama waktu yang digunakan (dalam menit)? 30\n",
      "Jumlah kalori yang terbakar: 360.0\n"
     ]
    }
   ],
   "source": [
    "#Tugas Sesi 6 Kondisi Percabanan\n",
    "\n",
    "print('UNIVERSITAS NUSA PUTRA SUKABUMI')\n",
    "print('-------------------------------')\n",
    "\n",
    "#PROGRAM MENGHITUNG JUMLAH KALORI YANG TERBAKAR SETELAH MELAKUKAN OLAHRAGA\n",
    "aktivitas = input(\"Aktivitas olahraga yang dilakukan (lari, push-up, atau plank)? \")\n",
    "durasi = int(input(\"Berapa lama waktu yang digunakan (dalam menit)? \"))\n",
    "if aktivitas == \"lari\":\n",
    "     kalori_terbakar = (durasi/5) * 60\n",
    "elif aktivitas == \"push-up\":\n",
    "     kalori_terbakar = (durasi/30) * 200\n",
    "elif aktivitas == \"plank\":\n",
    "     kalori_terbakar = durasi * 5\n",
    "else:\n",
    "     kalori_terbakar = 0\n",
    "print(\"Jumlah kalori yang terbakar:\", kalori_terbakar)\n"
   ]
  },
  {
   "cell_type": "code",
   "execution_count": 66,
   "id": "fac5b7e2",
   "metadata": {},
   "outputs": [
    {
     "name": "stdout",
     "output_type": "stream",
     "text": [
      "UNIVERSITAS NUSA PUTRA SUKABUMI\n",
      "-------------------------------\n",
      "LUPA LUPA INGAT\n",
      "TAGNI APUL APUL\n"
     ]
    }
   ],
   "source": [
    "#Tugas Sesi 7 Kondisi Perulangan\n",
    "\n",
    "print('UNIVERSITAS NUSA PUTRA SUKABUMI')\n",
    "print('-------------------------------')\n",
    "\n",
    "x = input()\n",
    "olah = x[::-1]\n",
    "print (olah)\n"
   ]
  },
  {
   "cell_type": "code",
   "execution_count": 6,
   "id": "0fe9bbca",
   "metadata": {
    "scrolled": true
   },
   "outputs": [
    {
     "name": "stdout",
     "output_type": "stream",
     "text": [
      "UNIVERSITAS NUSA PUTRA SUKABUMI\n",
      "-------------------------------\n",
      "masukkan teks:UNIVERSITAS NUSA PUTRA SUKABUMI\n",
      "total karakter: 31\n",
      "total hurup vokal: 13\n",
      "    a = 4\n",
      "    i = 3\n",
      "    u = 5\n",
      "    e = 1\n",
      "    o = 0\n"
     ]
    }
   ],
   "source": [
    "#Tugas Sesi 7 Kondisi Perulangan\n",
    "\n",
    "print('UNIVERSITAS NUSA PUTRA SUKABUMI')\n",
    "print('-------------------------------')\n",
    "\n",
    "teks = input('masukkan teks:').lower()\n",
    "vokal = {\n",
    "    'a': 0,\n",
    "    'i': 0,\n",
    "    'u': 0,\n",
    "    'e': 0,\n",
    "    'o': 0\n",
    "}\n",
    "total_vokal = 0\n",
    "\n",
    "for i in teks:\n",
    "    if i in ['a','i','u','e','o']:\n",
    "        vokal[i] += 1\n",
    "        total_vokal += 1\n",
    "        \n",
    "print(f'total karakter: {len(teks)}')\n",
    "print(f'total hurup vokal: {total_vokal}')\n",
    "print(f'''\\\n",
    "    a = {vokal['a']}\n",
    "    i = {vokal['i']}\n",
    "    u = {vokal['u']}\n",
    "    e = {vokal['e']}\n",
    "    o = {vokal['o']}\\\n",
    "''')\n",
    "      "
   ]
  },
  {
   "cell_type": "code",
   "execution_count": 5,
   "id": "78d90899",
   "metadata": {},
   "outputs": [
    {
     "name": "stdout",
     "output_type": "stream",
     "text": [
      "UNIVERSITAS NUSA PUTRA SUKABUMI\n",
      "-------------------------------\n",
      "masukan kata = Ibu Kota Negara Pindah ke Penajam Kalimantan\n",
      "jumlah hurup besar adalah sebanyak : 6\n",
      "\n",
      "Eko MN\n"
     ]
    }
   ],
   "source": [
    "#Tugas Sesi 12 Menghitung Hurup Besar Dalam kalimat\n",
    "#Ibu Kota Negara Pindah ke Penajam Kalimantan\" \n",
    "\n",
    "print('UNIVERSITAS NUSA PUTRA SUKABUMI')\n",
    "print('-------------------------------')\n",
    "\n",
    "kata = input('masukan kata = ') \n",
    "hurupbesar = 0\n",
    "for kar in kata:\n",
    "    if kar.isupper():\n",
    "        hurupbesar = hurupbesar +1\n",
    "\n",
    "print('jumlah hurup besar adalah sebanyak :', hurupbesar)\n",
    "\n",
    "print('\\nEko MN')\n",
    "\n"
   ]
  },
  {
   "cell_type": "code",
   "execution_count": 6,
   "id": "7137ecd0",
   "metadata": {},
   "outputs": [
    {
     "name": "stdout",
     "output_type": "stream",
     "text": [
      "UNIVERSITAS NUSA PUTRA SUKABUMI\n",
      "-------------------------------\n",
      "masukan kata = DKI Jakarta Menjadi Pusat Bisnis Indonesia\n",
      "jumlah hurup besar adalah sebanyak : 8\n",
      "\n",
      "Eko MN\n"
     ]
    }
   ],
   "source": [
    "#Tugas Sesi 12 Menghitung Hurup Besar Dalam kalimat\n",
    "#DKI Jakarta Menjadi Pusat Bisnis Indonesia\" \n",
    "\n",
    "print('UNIVERSITAS NUSA PUTRA SUKABUMI')\n",
    "print('-------------------------------')\n",
    "\n",
    "kata = input('masukan kata = ') \n",
    "hurupbesar = 0\n",
    "for kar in kata:\n",
    "    if kar.isupper():\n",
    "        hurupbesar = hurupbesar +1\n",
    "\n",
    "print('jumlah hurup besar adalah sebanyak :', hurupbesar)\n",
    "\n",
    "print('\\nEko MN')\n"
   ]
  },
  {
   "cell_type": "code",
   "execution_count": 1,
   "id": "55425acc",
   "metadata": {},
   "outputs": [
    {
     "name": "stdout",
     "output_type": "stream",
     "text": [
      "Mencari Y = 3x + 8\n",
      "------------------\n",
      "masukkan nilai angka x :4\n",
      "\n",
      "Hasil Perhitungan = 20.00\n",
      "\n",
      "Eko Memen Nuryaman TI22B\n"
     ]
    }
   ],
   "source": [
    "##Tugas Sesi 14 Algoritma\n",
    "\n",
    "print('Mencari Y = 3x + 8')\n",
    "print('------------------')\n",
    "\n",
    "a = float(input('masukkan nilai angka x :'))\n",
    "\n",
    "Hitung = (3*a)+(8)\n",
    "\n",
    "print('\\nHasil Perhitungan =', str(\"%.2f\" % Hitung))\n",
    "\n",
    "print('\\nEko Memen Nuryaman TI22B')"
   ]
  },
  {
   "cell_type": "code",
   "execution_count": 1,
   "id": "8405f40e",
   "metadata": {},
   "outputs": [
    {
     "name": "stdout",
     "output_type": "stream",
     "text": [
      "UNIVERSITAS NUSA PUTRA SUKABUMI\n",
      "-------------------------------\n"
     ]
    }
   ],
   "source": [
    "#Tugas Sesi 15 Import Data CSV \n",
    "\n",
    "print('UNIVERSITAS NUSA PUTRA SUKABUMI')\n",
    "print('-------------------------------')\n",
    "\n",
    "import pandas as pd"
   ]
  },
  {
   "cell_type": "code",
   "execution_count": 6,
   "id": "c3abf9e5",
   "metadata": {},
   "outputs": [
    {
     "name": "stdout",
     "output_type": "stream",
     "text": [
      "UNIVERSITAS NUSA PUTRA SUKABUMI\n",
      "-------------------------------\n",
      "21\n"
     ]
    }
   ],
   "source": [
    "#Tugas Sesi quiz Array\n",
    "\n",
    "print('UNIVERSITAS NUSA PUTRA SUKABUMI')\n",
    "print('-------------------------------')\n",
    "\n",
    "import array as arr\n",
    "\n",
    "arr_int = arr.array('i',[10,20,30,40,90,80])\n",
    "\n",
    "arr_bool = arr.array('i',[True,False])\n",
    "\n",
    "arrtambah = arr_int[1] + arr_bool[0]\n",
    "\n",
    "print(arrtambah)"
   ]
  },
  {
   "cell_type": "code",
   "execution_count": 5,
   "id": "61b90836",
   "metadata": {},
   "outputs": [
    {
     "name": "stdout",
     "output_type": "stream",
     "text": [
      "data : 123444\n",
      "cari: 3\n",
      "1\n"
     ]
    }
   ],
   "source": [
    "data = input('data : ')\n",
    "cari = input ('cari: ')\n",
    "print(data.count(cari))"
   ]
  },
  {
   "cell_type": "code",
   "execution_count": 21,
   "id": "b9d3496e",
   "metadata": {},
   "outputs": [
    {
     "name": "stdout",
     "output_type": "stream",
     "text": [
      "Adhitia Erfina\n",
      "anifrE aitihdA\n",
      "\n",
      "\n",
      "Belajar\n",
      "Universitas Nusa Putra Sukabumi\n",
      "universitas nusa putra sukabumi\n",
      "UNIVERSITAS NUSA PUTRA SUKABUMI\n",
      "universitas nusa putra sukabumi\n",
      "1\n",
      "---\n"
     ]
    }
   ],
   "source": [
    "#latihan perintah-perintah singkat\n",
    "\n",
    "x=input()\n",
    "olah=x[::-1]\n",
    "print(olah)\n",
    "print('\\n')    \n",
    "\n",
    "x='belajar'\n",
    "\n",
    "print(x.capitalize())\n",
    "\n",
    "nama = \"UNIVERSITAS NUSA PUTRA SUKABUMI\"\n",
    "print(nama.title())\n",
    "print(nama.lower())\n",
    "print(nama.upper())\n",
    "print(nama.lower())\n",
    "print(nama.find(\"N\"))\n",
    "\n",
    "print(nama.replace('UNIVERSITAS NUSA PUTRA SUKABUMI','---'))\n"
   ]
  },
  {
   "cell_type": "code",
   "execution_count": 14,
   "id": "e8d6dad1",
   "metadata": {},
   "outputs": [
    {
     "name": "stdout",
     "output_type": "stream",
     "text": [
      "Universitas\u001b[1m Nusa\u001b[1m Putra Sukabumi\n",
      "\u001b[1mhello\n",
      "\u001b[1mUniversitas Nusa Putra Sukabumi\n"
     ]
    }
   ],
   "source": [
    "print(\"Universitas\\33[1m Nusa\"+\"\\33[1m Putra Sukabumi\") \n",
    "bold = '\\33[1m'\n",
    "print(bold + \"hello\")\n",
    "print('\\33[1m' + \"Universitas Nusa Putra Sukabumi\") "
   ]
  },
  {
   "cell_type": "code",
   "execution_count": 16,
   "id": "af08cf81",
   "metadata": {},
   "outputs": [
    {
     "name": "stdout",
     "output_type": "stream",
     "text": [
      "Masukan nilai mahasiswa : 90\n",
      "Predikat mahasiswa A\n"
     ]
    }
   ],
   "source": [
    "inputNilai = int(input(\"Masukan nilai mahasiswa : \"))\n",
    "nilai = \"\"\n",
    "if inputNilai >= 85 :\n",
    "    nilai = \"A\"\n",
    "elif (inputNilai >= 75) and (inputNilai <= 85):\n",
    "    nilai = \"B\"\n",
    "elif (inputNilai >= 65) and (inputNilai <= 75):\n",
    "    nilai = \"C\"\n",
    "elif (inputNilai >= 55) and (inputNilai <= 65):\n",
    "    nilai = \"D\"\n",
    "else:\n",
    "    nilai = \"E\"\n",
    "print(\"Predikat mahasiswa\",nilai)"
   ]
  },
  {
   "cell_type": "code",
   "execution_count": 17,
   "id": "67739a79",
   "metadata": {},
   "outputs": [
    {
     "name": "stdout",
     "output_type": "stream",
     "text": [
      "Nama          :mmmmmmm\n",
      "Masukan nilai mahasiswa : 90\n",
      "Predikat mahasiswa 80000\n"
     ]
    }
   ],
   "source": [
    "nama = input(\"Nama          :\")\n",
    "inputNilai = int(input(\"Masukan nilai mahasiswa : \"))\n",
    "nilai = \"\"\n",
    "if inputNilai >= 10 :\n",
    "    nilai = 80000\n",
    "elif (inputNilai < 10) and (inputNilai > 150):\n",
    "    nilai = \"B\"\n",
    "elif (inputNilai >= 65) and (inputNilai <= 75):\n",
    "    nilai = \"C\"\n",
    "elif (inputNilai >= 55) and (inputNilai <= 65):\n",
    "    nilai = \"D\"\n",
    "else:\n",
    "    nilai = \"E\"\n",
    "print(\"Predikat mahasiswa\",nilai)"
   ]
  },
  {
   "cell_type": "code",
   "execution_count": 8,
   "id": "b3caaa42",
   "metadata": {},
   "outputs": [
    {
     "name": "stdout",
     "output_type": "stream",
     "text": [
      "True\n"
     ]
    }
   ],
   "source": [
    "dict1 = {\"key1\":1, \"key2\":2}\n",
    "\n",
    "dict2 = {\"key2\":2, \"key1\":1}\n",
    "\n",
    "print(dict1 == dict2)"
   ]
  },
  {
   "cell_type": "code",
   "execution_count": 11,
   "id": "ec85b5b4",
   "metadata": {},
   "outputs": [
    {
     "name": "stdout",
     "output_type": "stream",
     "text": [
      "('John', 'Harry', 'Jesse', 'John', 'Harry', 'Harry')\n"
     ]
    }
   ],
   "source": [
    "nameList = (\"John\", \"Harry\", \"Jesse\", \"John\", \"Harry\", \"Harry\")\n",
    "print (nameList)"
   ]
  },
  {
   "cell_type": "code",
   "execution_count": 12,
   "id": "87828d02",
   "metadata": {},
   "outputs": [
    {
     "name": "stdout",
     "output_type": "stream",
     "text": [
      "['John', 'Harry', 'Jesse', 'John', 'Harry', 'Harry']\n"
     ]
    }
   ],
   "source": [
    "nameList = [\"John\", \"Harry\", \"Jesse\", \"John\", \"Harry\", \"Harry\"]\n",
    "print (nameList)"
   ]
  },
  {
   "cell_type": "code",
   "execution_count": 21,
   "id": "62289567",
   "metadata": {},
   "outputs": [
    {
     "data": {
      "text/plain": [
       "'Harry'"
      ]
     },
     "execution_count": 21,
     "metadata": {},
     "output_type": "execute_result"
    }
   ],
   "source": [
    "nameList = [\"John\", \"Harry\", \"Jesse\", \"John\", \"Harry\", \"Harry\"]\n",
    "nameList[4]"
   ]
  },
  {
   "cell_type": "code",
   "execution_count": 26,
   "id": "674930e7",
   "metadata": {},
   "outputs": [
    {
     "name": "stdout",
     "output_type": "stream",
     "text": [
      "person =  {'name': 'Phill', 'age': 22}\n",
      "Age =  22\n"
     ]
    }
   ],
   "source": [
    "person = {'name': 'Phill', 'age': 22}\n",
    "\n",
    "a = person.setdefault('age')\n",
    "\n",
    "print('person = ', person)\n",
    "\n",
    "print('Age = ', a)"
   ]
  },
  {
   "cell_type": "code",
   "execution_count": 30,
   "id": "0c8db7dd",
   "metadata": {},
   "outputs": [
    {
     "name": "stdout",
     "output_type": "stream",
     "text": [
      "300\n",
      "(200, 300, 400)\n"
     ]
    }
   ],
   "source": [
    "aTuple = (100, 200, 300, 400, 500)\n",
    "\n",
    "print(aTuple[2])\n",
    "\n",
    "print(aTuple[-4:-1])"
   ]
  },
  {
   "cell_type": "code",
   "execution_count": 1,
   "id": "982ce226",
   "metadata": {},
   "outputs": [
    {
     "name": "stdout",
     "output_type": "stream",
     "text": [
      "Enter 1st number: 1\n",
      "Enter 2nd number: 0\n",
      "11\n"
     ]
    }
   ],
   "source": [
    "def fungsi(a, b):\n",
    "\n",
    "    return (a + b)\n",
    "    return (a)\n",
    "\n",
    "a = int(input('Enter 1st number: '))\n",
    "\n",
    "b = int(input('Enter 2nd number: '))\n",
    "\n",
    "print(f'{fungsi(5,6)}')"
   ]
  },
  {
   "cell_type": "code",
   "execution_count": 37,
   "id": "93303777",
   "metadata": {},
   "outputs": [
    {
     "name": "stdout",
     "output_type": "stream",
     "text": [
      "1428\n"
     ]
    }
   ],
   "source": [
    "def func(a,b):\n",
    "\n",
    "    return (str(a) + str(b))\n",
    "\n",
    "print(func(14,28))"
   ]
  },
  {
   "cell_type": "code",
   "execution_count": 2,
   "id": "2c44df70",
   "metadata": {},
   "outputs": [],
   "source": [
    "def func(a,b):\n",
    "\n",
    "    if a < b:\n",
    "\n",
    "        return a\n",
    "\n",
    "    return b"
   ]
  },
  {
   "cell_type": "code",
   "execution_count": 8,
   "id": "09abf29d",
   "metadata": {},
   "outputs": [
    {
     "name": "stdout",
     "output_type": "stream",
     "text": [
      "2.2\n",
      "final block executed \n"
     ]
    }
   ],
   "source": [
    "try:\n",
    "\n",
    "    a=11/5\n",
    "\n",
    "    print (a)\n",
    "\n",
    "except ArithmeticError:\n",
    "\n",
    "    print (\"This statement is raising an exception\")\n",
    "\n",
    "finally:\n",
    "\n",
    "    print (\"final block executed \")"
   ]
  },
  {
   "cell_type": "code",
   "execution_count": 62,
   "id": "0723f11f",
   "metadata": {},
   "outputs": [
    {
     "name": "stdout",
     "output_type": "stream",
     "text": [
      "\n",
      " Enter a Value 1\n",
      "\n",
      " Enter a Value 1\n",
      "1.0\n"
     ]
    }
   ],
   "source": [
    "try:\n",
    "\n",
    "    a=int(input(\"\\n Enter a Value \"))\n",
    "\n",
    "    b=int(input(\"\\n Enter a Value \"))\n",
    "\n",
    "    c=a/b\n",
    "\n",
    "    print (c)\n",
    "\n",
    "except:\n",
    "\n",
    "    print(\"\\n Something Went Wrong\")\n",
    "\n"
   ]
  },
  {
   "cell_type": "code",
   "execution_count": 55,
   "id": "e0e27189",
   "metadata": {},
   "outputs": [
    {
     "name": "stdout",
     "output_type": "stream",
     "text": [
      "Enter a number: 1\n",
      "Not an even number!\n"
     ]
    }
   ],
   "source": [
    "try:\n",
    "\n",
    "    num = int(input(\"Enter a number: \"))\n",
    "\n",
    "    assert num % 2 == 0\n",
    "\n",
    "except:\n",
    "\n",
    "    print(\"Not an even number!\")\n",
    "\n",
    "else:\n",
    "\n",
    "    reciprocal = 1/num\n",
    "\n",
    "    print(reciprocal)"
   ]
  },
  {
   "cell_type": "code",
   "execution_count": 9,
   "id": "1fc14ed1",
   "metadata": {},
   "outputs": [
    {
     "name": "stdout",
     "output_type": "stream",
     "text": [
      "0\n"
     ]
    }
   ],
   "source": [
    "x = 5\n",
    "\n",
    "y = 0\n",
    "\n",
    "try:\n",
    "\n",
    "    z = x/y\n",
    "\n",
    "except ZeroDivisionError:\n",
    "\n",
    "    z=0 #handle here\n",
    "\n",
    "print(z) #output as 0"
   ]
  },
  {
   "cell_type": "code",
   "execution_count": 13,
   "id": "add45aae",
   "metadata": {},
   "outputs": [
    {
     "name": "stdout",
     "output_type": "stream",
     "text": [
      "Zero Division Error Occured\n"
     ]
    }
   ],
   "source": [
    "num1 = 100\n",
    "\n",
    "num2 = 0\n",
    "\n",
    "try:\n",
    "\n",
    "    result = num1/num2\n",
    "\n",
    "    print(result)\n",
    "\n",
    "except ZeroDivisionError:\n",
    "\n",
    "    print(\"Zero Division Error Occured\")"
   ]
  },
  {
   "cell_type": "code",
   "execution_count": 17,
   "id": "b47dda50",
   "metadata": {},
   "outputs": [
    {
     "ename": "SyntaxError",
     "evalue": "invalid syntax (1885325493.py, line 4)",
     "output_type": "error",
     "traceback": [
      "\u001b[1;36m  Input \u001b[1;32mIn [17]\u001b[1;36m\u001b[0m\n\u001b[1;33m    print('firstname : ', Eko MN)\u001b[0m\n\u001b[1;37m                              ^\u001b[0m\n\u001b[1;31mSyntaxError\u001b[0m\u001b[1;31m:\u001b[0m invalid syntax\n"
     ]
    }
   ],
   "source": [
    "#Fungsi dengan parameter Sintaks\n",
    "\n",
    "def fullName(firstname, lastname):\n",
    "    print('firstname : ', Eko MN)\n",
    "    print('lastname : ', Nuryaman)\n",
    "    \n",
    "fullName('firstname')\n"
   ]
  },
  {
   "cell_type": "code",
   "execution_count": null,
   "id": "044544a4",
   "metadata": {},
   "outputs": [],
   "source": []
  }
 ],
 "metadata": {
  "kernelspec": {
   "display_name": "Python 3 (ipykernel)",
   "language": "python",
   "name": "python3"
  },
  "language_info": {
   "codemirror_mode": {
    "name": "ipython",
    "version": 3
   },
   "file_extension": ".py",
   "mimetype": "text/x-python",
   "name": "python",
   "nbconvert_exporter": "python",
   "pygments_lexer": "ipython3",
   "version": "3.9.12"
  }
 },
 "nbformat": 4,
 "nbformat_minor": 5
}
